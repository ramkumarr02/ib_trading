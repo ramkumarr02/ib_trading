{
 "cells": [
  {
   "cell_type": "code",
   "execution_count": 1,
   "metadata": {
    "scrolled": true
   },
   "outputs": [
    {
     "data": {
      "text/plain": [
       "<IB connected to 127.0.0.1:7497 clientId=2>"
      ]
     },
     "execution_count": 1,
     "metadata": {},
     "output_type": "execute_result"
    }
   ],
   "source": [
    "from ib_insync import *\n",
    "import nest_asyncio\n",
    "nest_asyncio.apply()\n",
    "\n",
    "ib = IB()\n",
    "ib.connect('127.0.0.1', 7497, clientId=2)"
   ]
  },
  {
   "cell_type": "code",
   "execution_count": 9,
   "metadata": {},
   "outputs": [],
   "source": [
    "util.startLoop()"
   ]
  },
  {
   "cell_type": "code",
   "execution_count": 2,
   "metadata": {},
   "outputs": [
    {
     "name": "stdout",
     "output_type": "stream",
     "text": [
      "bank_nifty's secType : IND\n",
      "bank_nifty's conId   : 56994300\n"
     ]
    }
   ],
   "source": [
    "bank_nifty = Index('BANKNIFTY', 'NSE')\n",
    "ib.qualifyContracts(bank_nifty)\n",
    "\n",
    "print(f\"bank_nifty's secType : {bank_nifty.secType}\")\n",
    "print(f\"bank_nifty's conId   : {bank_nifty.conId}\")"
   ]
  },
  {
   "cell_type": "code",
   "execution_count": 6,
   "metadata": {},
   "outputs": [
    {
     "data": {
      "text/plain": [
       "1"
      ]
     },
     "execution_count": 6,
     "metadata": {},
     "output_type": "execute_result"
    }
   ],
   "source": [
    "cds = ib.reqContractDetails(bank_nifty)\n",
    "\n",
    "len(cds)"
   ]
  },
  {
   "cell_type": "code",
   "execution_count": 8,
   "metadata": {},
   "outputs": [
    {
     "data": {
      "text/html": [
       "<div>\n",
       "<style scoped>\n",
       "    .dataframe tbody tr th:only-of-type {\n",
       "        vertical-align: middle;\n",
       "    }\n",
       "\n",
       "    .dataframe tbody tr th {\n",
       "        vertical-align: top;\n",
       "    }\n",
       "\n",
       "    .dataframe thead th {\n",
       "        text-align: right;\n",
       "    }\n",
       "</style>\n",
       "<table border=\"1\" class=\"dataframe\">\n",
       "  <thead>\n",
       "    <tr style=\"text-align: right;\">\n",
       "      <th></th>\n",
       "      <th>contract</th>\n",
       "      <th>marketName</th>\n",
       "      <th>minTick</th>\n",
       "      <th>sizeMinTick</th>\n",
       "      <th>orderTypes</th>\n",
       "      <th>validExchanges</th>\n",
       "      <th>priceMagnifier</th>\n",
       "      <th>underConId</th>\n",
       "      <th>longName</th>\n",
       "      <th>contractMonth</th>\n",
       "      <th>...</th>\n",
       "      <th>callable</th>\n",
       "      <th>putable</th>\n",
       "      <th>coupon</th>\n",
       "      <th>convertible</th>\n",
       "      <th>maturity</th>\n",
       "      <th>issueDate</th>\n",
       "      <th>nextOptionDate</th>\n",
       "      <th>nextOptionType</th>\n",
       "      <th>nextOptionPartial</th>\n",
       "      <th>notes</th>\n",
       "    </tr>\n",
       "  </thead>\n",
       "  <tbody>\n",
       "    <tr>\n",
       "      <th>0</th>\n",
       "      <td>Contract(secType='IND', conId=56994300, symbol...</td>\n",
       "      <td></td>\n",
       "      <td>0.5</td>\n",
       "      <td>1.0</td>\n",
       "      <td>ACTIVETIM,AD,ADJUST,ALERT,ALLOC,BASKET,BENCHPX...</td>\n",
       "      <td>NSE</td>\n",
       "      <td>1</td>\n",
       "      <td>0</td>\n",
       "      <td>Nifty Bank</td>\n",
       "      <td></td>\n",
       "      <td>...</td>\n",
       "      <td>False</td>\n",
       "      <td>False</td>\n",
       "      <td>0</td>\n",
       "      <td>False</td>\n",
       "      <td></td>\n",
       "      <td></td>\n",
       "      <td></td>\n",
       "      <td></td>\n",
       "      <td>False</td>\n",
       "      <td></td>\n",
       "    </tr>\n",
       "  </tbody>\n",
       "</table>\n",
       "<p>1 rows × 42 columns</p>\n",
       "</div>"
      ],
      "text/plain": [
       "                                            contract marketName  minTick  \\\n",
       "0  Contract(secType='IND', conId=56994300, symbol...                 0.5   \n",
       "\n",
       "   sizeMinTick                                         orderTypes  \\\n",
       "0          1.0  ACTIVETIM,AD,ADJUST,ALERT,ALLOC,BASKET,BENCHPX...   \n",
       "\n",
       "  validExchanges  priceMagnifier  underConId    longName contractMonth  ...  \\\n",
       "0            NSE               1           0  Nifty Bank                ...   \n",
       "\n",
       "  callable putable coupon convertible maturity issueDate nextOptionDate  \\\n",
       "0    False   False      0       False                                     \n",
       "\n",
       "   nextOptionType  nextOptionPartial  notes  \n",
       "0                              False         \n",
       "\n",
       "[1 rows x 42 columns]"
      ]
     },
     "execution_count": 8,
     "metadata": {},
     "output_type": "execute_result"
    }
   ],
   "source": [
    "util.df(cds)"
   ]
  },
  {
   "cell_type": "code",
   "execution_count": 39,
   "metadata": {},
   "outputs": [],
   "source": [
    "ib.reqMarketDataType(4)"
   ]
  },
  {
   "cell_type": "code",
   "execution_count": 13,
   "metadata": {},
   "outputs": [
    {
     "data": {
      "text/plain": [
       "Ticker(contract=Index(conId=56994300, symbol='BANKNIFTY', exchange='NSE', currency='INR', localSymbol='BANKNIFTY'), time=datetime.datetime(2022, 4, 18, 11, 26, 0, 108993, tzinfo=datetime.timezone.utc), marketDataType=3, bid=-1.0, bidSize=0.0, ask=-1.0, askSize=0.0, last=36791.5, lastSize=1.0, close=37463.5)"
      ]
     },
     "execution_count": 13,
     "metadata": {},
     "output_type": "execute_result"
    }
   ],
   "source": [
    "[ticker] = ib.reqTickers(bank_nifty)\n",
    "ticker"
   ]
  },
  {
   "cell_type": "code",
   "execution_count": 14,
   "metadata": {},
   "outputs": [
    {
     "data": {
      "text/html": [
       "<div>\n",
       "<style scoped>\n",
       "    .dataframe tbody tr th:only-of-type {\n",
       "        vertical-align: middle;\n",
       "    }\n",
       "\n",
       "    .dataframe tbody tr th {\n",
       "        vertical-align: top;\n",
       "    }\n",
       "\n",
       "    .dataframe thead th {\n",
       "        text-align: right;\n",
       "    }\n",
       "</style>\n",
       "<table border=\"1\" class=\"dataframe\">\n",
       "  <thead>\n",
       "    <tr style=\"text-align: right;\">\n",
       "      <th></th>\n",
       "      <th>exchange</th>\n",
       "      <th>underlyingConId</th>\n",
       "      <th>tradingClass</th>\n",
       "      <th>multiplier</th>\n",
       "      <th>expirations</th>\n",
       "      <th>strikes</th>\n",
       "    </tr>\n",
       "  </thead>\n",
       "  <tbody>\n",
       "    <tr>\n",
       "      <th>0</th>\n",
       "      <td>NSE</td>\n",
       "      <td>56994300</td>\n",
       "      <td>BANKNIFTY</td>\n",
       "      <td>1</td>\n",
       "      <td>[20220421, 20220428, 20220505, 20220512, 20220...</td>\n",
       "      <td>[25500.0, 27000.0, 28500.0, 28900.0, 29000.0, ...</td>\n",
       "    </tr>\n",
       "  </tbody>\n",
       "</table>\n",
       "</div>"
      ],
      "text/plain": [
       "  exchange underlyingConId tradingClass multiplier  \\\n",
       "0      NSE        56994300    BANKNIFTY          1   \n",
       "\n",
       "                                         expirations  \\\n",
       "0  [20220421, 20220428, 20220505, 20220512, 20220...   \n",
       "\n",
       "                                             strikes  \n",
       "0  [25500.0, 27000.0, 28500.0, 28900.0, 29000.0, ...  "
      ]
     },
     "execution_count": 14,
     "metadata": {},
     "output_type": "execute_result"
    }
   ],
   "source": [
    "chains = ib.reqSecDefOptParams('BANKNIFTY', '', bank_nifty.secType, bank_nifty.conId)\n",
    "util.df(chains)"
   ]
  },
  {
   "cell_type": "code",
   "execution_count": 15,
   "metadata": {},
   "outputs": [
    {
     "data": {
      "text/plain": [
       "[OptionChain(exchange='NSE', underlyingConId='56994300', tradingClass='BANKNIFTY', multiplier='1', expirations=['20220421', '20220428', '20220505', '20220512', '20220519', '20220526', '20220630', '20220929', '20221229', '20230330'], strikes=[25500.0, 27000.0, 28500.0, 28900.0, 29000.0, 29100.0, 29200.0, 29300.0, 29400.0, 29500.0, 29600.0, 29700.0, 29800.0, 29900.0, 30000.0, 30100.0, 30200.0, 30300.0, 30400.0, 30500.0, 30600.0, 30700.0, 30800.0, 30900.0, 31000.0, 31100.0, 31200.0, 31300.0, 31400.0, 31500.0, 31600.0, 31700.0, 31800.0, 31900.0, 32000.0, 32100.0, 32200.0, 32300.0, 32400.0, 32500.0, 32600.0, 32700.0, 32800.0, 32900.0, 33000.0, 33100.0, 33200.0, 33300.0, 33400.0, 33500.0, 33600.0, 33700.0, 33800.0, 33900.0, 34000.0, 34100.0, 34200.0, 34300.0, 34400.0, 34500.0, 34600.0, 34700.0, 34800.0, 34900.0, 35000.0, 35100.0, 35200.0, 35300.0, 35400.0, 35500.0, 35600.0, 35700.0, 35800.0, 35900.0, 36000.0, 36100.0, 36200.0, 36300.0, 36400.0, 36500.0, 36600.0, 36700.0, 36800.0, 36900.0, 37000.0, 37100.0, 37200.0, 37300.0, 37400.0, 37500.0, 37600.0, 37700.0, 37800.0, 37900.0, 38000.0, 38100.0, 38200.0, 38300.0, 38400.0, 38500.0, 38600.0, 38700.0, 38800.0, 38900.0, 39000.0, 39100.0, 39200.0, 39300.0, 39400.0, 39500.0, 39600.0, 39700.0, 39800.0, 39900.0, 40000.0, 40100.0, 40200.0, 40300.0, 40400.0, 40500.0, 40600.0, 40700.0, 40800.0, 40900.0, 41000.0, 41100.0, 41200.0, 41300.0, 41400.0, 41500.0, 41600.0, 41700.0, 41800.0, 41900.0, 42000.0, 42100.0, 42200.0, 42300.0, 42400.0, 42500.0, 42600.0, 42700.0, 42800.0, 42900.0, 43000.0, 43100.0, 43200.0, 43300.0, 43500.0, 45000.0, 46500.0])]"
      ]
     },
     "execution_count": 15,
     "metadata": {},
     "output_type": "execute_result"
    }
   ],
   "source": [
    "chains"
   ]
  },
  {
   "cell_type": "code",
   "execution_count": 40,
   "metadata": {},
   "outputs": [],
   "source": [
    "expirations = ['20220421']\n",
    "strikes = [36800.0]\n",
    "rights = ['P', 'C']\n",
    "\n",
    "opt_request_set = [Option('BANKNIFTY', expiration, strike, right, 'NSE', tradingClass='BANKNIFTY')\n",
    "        for right in rights\n",
    "        for expiration in expirations\n",
    "        for strike in strikes]"
   ]
  },
  {
   "cell_type": "code",
   "execution_count": 41,
   "metadata": {
    "scrolled": false
   },
   "outputs": [
    {
     "name": "stderr",
     "output_type": "stream",
     "text": [
      "Error 354, reqId 321: Requested market data is not subscribed.Delayed market data is not available.BANKNIFTY APR 21 '22 36800 Put/TOP/ALL, contract: Option(symbol='BANKNIFTY', lastTradeDateOrContractMonth='20220421', strike=36800.0, right='P', exchange='NSE', tradingClass='BANKNIFTY')\n",
      "Error 354, reqId 322: Requested market data is not subscribed.Delayed market data is not available.BANKNIFTY APR 21 '22 36800 Call/TOP/ALL, contract: Option(symbol='BANKNIFTY', lastTradeDateOrContractMonth='20220421', strike=36800.0, right='C', exchange='NSE', tradingClass='BANKNIFTY')\n"
     ]
    },
    {
     "data": {
      "text/plain": [
       "[Ticker(contract=Option(symbol='BANKNIFTY', lastTradeDateOrContractMonth='20220421', strike=36800.0, right='P', exchange='NSE', tradingClass='BANKNIFTY')),\n",
       " Ticker(contract=Option(symbol='BANKNIFTY', lastTradeDateOrContractMonth='20220421', strike=36800.0, right='C', exchange='NSE', tradingClass='BANKNIFTY'))]"
      ]
     },
     "execution_count": 41,
     "metadata": {},
     "output_type": "execute_result"
    },
    {
     "name": "stderr",
     "output_type": "stream",
     "text": [
      "Error 10090, reqId 321: Part of requested market data is not subscribed. Subscription-independent ticks are still active.Delayed market data is available.BANKNIFTY Nifty Bank/TOP/ALL\n",
      "Error 10090, reqId 322: Part of requested market data is not subscribed. Subscription-independent ticks are still active.Delayed market data is available.BANKNIFTY Nifty Bank/TOP/ALL\n",
      "Error 10197, reqId 321: No market data during competing live session\n",
      "Error 10197, reqId 322: No market data during competing live session\n"
     ]
    }
   ],
   "source": [
    "tickers = ib.reqTickers(*opt_request_set)\n",
    "\n",
    "tickers"
   ]
  },
  {
   "cell_type": "code",
   "execution_count": null,
   "metadata": {},
   "outputs": [],
   "source": []
  }
 ],
 "metadata": {
  "kernelspec": {
   "display_name": "Python 3.6.6 64-bit",
   "language": "python",
   "name": "python36664bitab910dfda0bc43a8bf7df0c20d1c59f2"
  },
  "language_info": {
   "codemirror_mode": {
    "name": "ipython",
    "version": 3
   },
   "file_extension": ".py",
   "mimetype": "text/x-python",
   "name": "python",
   "nbconvert_exporter": "python",
   "pygments_lexer": "ipython3",
   "version": "3.6.6"
  }
 },
 "nbformat": 4,
 "nbformat_minor": 4
}
