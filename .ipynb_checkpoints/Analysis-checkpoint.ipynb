{
 "cells": [
  {
   "cell_type": "code",
   "execution_count": 10,
   "metadata": {},
   "outputs": [],
   "source": [
    "from ib_insync import *\n",
    "import nest_asyncio\n",
    "nest_asyncio.apply()"
   ]
  },
  {
   "cell_type": "code",
   "execution_count": 11,
   "metadata": {},
   "outputs": [
    {
     "name": "stderr",
     "output_type": "stream",
     "text": [
      "Error 321, reqId 1: Error validating request.-'bi' : cause - Group name cannot be null\n",
      "positions request timed out\n",
      "account updates request timed out\n"
     ]
    },
    {
     "name": "stdout",
     "output_type": "stream",
     "text": [
      "                   date     open     high      low    close\n",
      "0   2022-03-07 06:15:00  1.09265  1.09285  1.09235  1.09255\n",
      "1   2022-03-07 07:00:00  1.09255  1.09255  1.08640  1.08740\n",
      "2   2022-03-07 08:00:00  1.08740  1.08845  1.08625  1.08625\n",
      "3   2022-03-07 09:00:00  1.08625  1.08665  1.08215  1.08435\n",
      "4   2022-03-07 10:00:00  1.08435  1.08540  1.08360  1.08460\n",
      "..                  ...      ...      ...      ...      ...\n",
      "715 2022-04-16 00:00:00  1.08075  1.08110  1.08065  1.08070\n",
      "716 2022-04-16 01:00:00  1.08070  1.08115  1.08055  1.08110\n",
      "717 2022-04-16 02:00:00  1.08110  1.08110  1.08085  1.08105\n",
      "718 2022-04-16 03:00:00  1.08105  1.08110  1.08070  1.08090\n",
      "719 2022-04-16 04:00:00  1.08090  1.08150  1.08080  1.08100\n",
      "\n",
      "[720 rows x 5 columns]\n"
     ]
    }
   ],
   "source": [
    "ib = IB()\n",
    "ib.connect('127.0.0.1', 7497, clientId=1)\n",
    "contract = Forex('EURUSD')\n",
    "bars = ib.reqHistoricalData(contract, endDateTime='', durationStr='30 D',\n",
    "        barSizeSetting='1 hour', whatToShow='MIDPOINT', useRTH=True)\n",
    "\n",
    "# convert to pandas dataframe:\n",
    "df = util.df(bars)\n",
    "print(df[['date', 'open', 'high', 'low', 'close']])"
   ]
  }
 ],
 "metadata": {
  "kernelspec": {
   "display_name": "Python 3.6.6 64-bit",
   "language": "python",
   "name": "python36664bitab910dfda0bc43a8bf7df0c20d1c59f2"
  },
  "language_info": {
   "codemirror_mode": {
    "name": "ipython",
    "version": 3
   },
   "file_extension": ".py",
   "mimetype": "text/x-python",
   "name": "python",
   "nbconvert_exporter": "python",
   "pygments_lexer": "ipython3",
   "version": "3.6.6"
  }
 },
 "nbformat": 4,
 "nbformat_minor": 4
}
