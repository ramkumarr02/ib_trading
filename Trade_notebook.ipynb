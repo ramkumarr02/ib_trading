{
 "cells": [
  {
   "cell_type": "code",
   "execution_count": 1,
   "metadata": {
    "scrolled": true
   },
   "outputs": [],
   "source": [
    "import pandas as pd\n",
    "import numpy as np\n",
    "import datetime as dt\n",
    "\n",
    "\n",
    "from ib_insync import *\n",
    "import nest_asyncio\n",
    "nest_asyncio.apply()\n",
    "\n",
    "ib = IB()\n",
    "ib.connect('127.0.0.1', 7497, clientId=1)\n",
    "\n",
    "data = {}"
   ]
  },
  {
   "cell_type": "code",
   "execution_count": 2,
   "metadata": {},
   "outputs": [],
   "source": [
    "util.startLoop()"
   ]
  },
  {
   "cell_type": "code",
   "execution_count": 3,
   "metadata": {},
   "outputs": [
    {
     "name": "stdout",
     "output_type": "stream",
     "text": [
      "bank_nifty's secType : IND\n",
      "bank_nifty's conId   : 56994300\n"
     ]
    }
   ],
   "source": [
    "bank_nifty = Index('BANKNIFTY', 'NSE')\n",
    "ib.qualifyContracts(bank_nifty)\n",
    "\n",
    "print(f\"bank_nifty's secType : {bank_nifty.secType}\")\n",
    "print(f\"bank_nifty's conId   : {bank_nifty.conId}\")"
   ]
  },
  {
   "cell_type": "code",
   "execution_count": 4,
   "metadata": {},
   "outputs": [
    {
     "data": {
      "text/plain": [
       "1"
      ]
     },
     "execution_count": 4,
     "metadata": {},
     "output_type": "execute_result"
    }
   ],
   "source": [
    "cds = ib.reqContractDetails(bank_nifty)\n",
    "\n",
    "len(cds)"
   ]
  },
  {
   "cell_type": "code",
   "execution_count": 5,
   "metadata": {},
   "outputs": [
    {
     "data": {
      "text/html": [
       "<div>\n",
       "<style scoped>\n",
       "    .dataframe tbody tr th:only-of-type {\n",
       "        vertical-align: middle;\n",
       "    }\n",
       "\n",
       "    .dataframe tbody tr th {\n",
       "        vertical-align: top;\n",
       "    }\n",
       "\n",
       "    .dataframe thead th {\n",
       "        text-align: right;\n",
       "    }\n",
       "</style>\n",
       "<table border=\"1\" class=\"dataframe\">\n",
       "  <thead>\n",
       "    <tr style=\"text-align: right;\">\n",
       "      <th></th>\n",
       "      <th>contract</th>\n",
       "      <th>marketName</th>\n",
       "      <th>minTick</th>\n",
       "      <th>sizeMinTick</th>\n",
       "      <th>orderTypes</th>\n",
       "      <th>validExchanges</th>\n",
       "      <th>priceMagnifier</th>\n",
       "      <th>underConId</th>\n",
       "      <th>longName</th>\n",
       "      <th>contractMonth</th>\n",
       "      <th>...</th>\n",
       "      <th>callable</th>\n",
       "      <th>putable</th>\n",
       "      <th>coupon</th>\n",
       "      <th>convertible</th>\n",
       "      <th>maturity</th>\n",
       "      <th>issueDate</th>\n",
       "      <th>nextOptionDate</th>\n",
       "      <th>nextOptionType</th>\n",
       "      <th>nextOptionPartial</th>\n",
       "      <th>notes</th>\n",
       "    </tr>\n",
       "  </thead>\n",
       "  <tbody>\n",
       "    <tr>\n",
       "      <th>0</th>\n",
       "      <td>Contract(secType='IND', conId=56994300, symbol...</td>\n",
       "      <td></td>\n",
       "      <td>0.5</td>\n",
       "      <td>1.0</td>\n",
       "      <td>ACTIVETIM,AD,ADJUST,ALERT,ALLOC,BASKET,BENCHPX...</td>\n",
       "      <td>NSE</td>\n",
       "      <td>1</td>\n",
       "      <td>0</td>\n",
       "      <td>Nifty Bank</td>\n",
       "      <td></td>\n",
       "      <td>...</td>\n",
       "      <td>False</td>\n",
       "      <td>False</td>\n",
       "      <td>0</td>\n",
       "      <td>False</td>\n",
       "      <td></td>\n",
       "      <td></td>\n",
       "      <td></td>\n",
       "      <td></td>\n",
       "      <td>False</td>\n",
       "      <td></td>\n",
       "    </tr>\n",
       "  </tbody>\n",
       "</table>\n",
       "<p>1 rows × 42 columns</p>\n",
       "</div>"
      ],
      "text/plain": [
       "                                            contract marketName  minTick  \\\n",
       "0  Contract(secType='IND', conId=56994300, symbol...                 0.5   \n",
       "\n",
       "   sizeMinTick                                         orderTypes  \\\n",
       "0          1.0  ACTIVETIM,AD,ADJUST,ALERT,ALLOC,BASKET,BENCHPX...   \n",
       "\n",
       "  validExchanges  priceMagnifier  underConId    longName contractMonth  ...  \\\n",
       "0            NSE               1           0  Nifty Bank                ...   \n",
       "\n",
       "  callable putable coupon convertible maturity issueDate nextOptionDate  \\\n",
       "0    False   False      0       False                                     \n",
       "\n",
       "   nextOptionType  nextOptionPartial  notes  \n",
       "0                              False         \n",
       "\n",
       "[1 rows x 42 columns]"
      ]
     },
     "execution_count": 5,
     "metadata": {},
     "output_type": "execute_result"
    }
   ],
   "source": [
    "util.df(cds)"
   ]
  },
  {
   "cell_type": "code",
   "execution_count": 6,
   "metadata": {},
   "outputs": [],
   "source": [
    "ib.reqMarketDataType(4)"
   ]
  },
  {
   "cell_type": "code",
   "execution_count": 7,
   "metadata": {},
   "outputs": [
    {
     "data": {
      "text/plain": [
       "Ticker(contract=Index(conId=56994300, symbol='BANKNIFTY', exchange='NSE', currency='INR', localSymbol='BANKNIFTY'), time=datetime.datetime(2022, 9, 29, 8, 41, 39, 228307, tzinfo=datetime.timezone.utc), marketDataType=3, bid=-1.0, bidSize=0.0, ask=-1.0, askSize=0.0, last=37633.5, lastSize=1.0, high=38283.5, low=37546.0, close=37760.0)"
      ]
     },
     "execution_count": 7,
     "metadata": {},
     "output_type": "execute_result"
    }
   ],
   "source": [
    "[ticker] = ib.reqTickers(bank_nifty)\n",
    "ticker"
   ]
  },
  {
   "cell_type": "code",
   "execution_count": 8,
   "metadata": {},
   "outputs": [
    {
     "data": {
      "text/html": [
       "<div>\n",
       "<style scoped>\n",
       "    .dataframe tbody tr th:only-of-type {\n",
       "        vertical-align: middle;\n",
       "    }\n",
       "\n",
       "    .dataframe tbody tr th {\n",
       "        vertical-align: top;\n",
       "    }\n",
       "\n",
       "    .dataframe thead th {\n",
       "        text-align: right;\n",
       "    }\n",
       "</style>\n",
       "<table border=\"1\" class=\"dataframe\">\n",
       "  <thead>\n",
       "    <tr style=\"text-align: right;\">\n",
       "      <th></th>\n",
       "      <th>exchange</th>\n",
       "      <th>underlyingConId</th>\n",
       "      <th>tradingClass</th>\n",
       "      <th>multiplier</th>\n",
       "      <th>expirations</th>\n",
       "      <th>strikes</th>\n",
       "    </tr>\n",
       "  </thead>\n",
       "  <tbody>\n",
       "    <tr>\n",
       "      <th>0</th>\n",
       "      <td>NSE</td>\n",
       "      <td>56994300</td>\n",
       "      <td>BANKNIFTY</td>\n",
       "      <td>1</td>\n",
       "      <td>[20220929, 20221006, 20221013, 20221020, 20221...</td>\n",
       "      <td>[18000.0, 19500.0, 21000.0, 22500.0, 23500.0, ...</td>\n",
       "    </tr>\n",
       "  </tbody>\n",
       "</table>\n",
       "</div>"
      ],
      "text/plain": [
       "  exchange underlyingConId tradingClass multiplier  \\\n",
       "0      NSE        56994300    BANKNIFTY          1   \n",
       "\n",
       "                                         expirations  \\\n",
       "0  [20220929, 20221006, 20221013, 20221020, 20221...   \n",
       "\n",
       "                                             strikes  \n",
       "0  [18000.0, 19500.0, 21000.0, 22500.0, 23500.0, ...  "
      ]
     },
     "execution_count": 8,
     "metadata": {},
     "output_type": "execute_result"
    }
   ],
   "source": [
    "chains = ib.reqSecDefOptParams('BANKNIFTY', '', bank_nifty.secType, bank_nifty.conId)\n",
    "util.df(chains)"
   ]
  },
  {
   "cell_type": "code",
   "execution_count": 9,
   "metadata": {},
   "outputs": [
    {
     "data": {
      "text/plain": [
       "[OptionChain(exchange='NSE', underlyingConId='56994300', tradingClass='BANKNIFTY', multiplier='1', expirations=['20220929', '20221006', '20221013', '20221020', '20221027', '20221103', '20221124', '20221229', '20230330', '20230629'], strikes=[18000.0, 19500.0, 21000.0, 22500.0, 23500.0, 24000.0, 24500.0, 25000.0, 25500.0, 26000.0, 26500.0, 27000.0, 27500.0, 28000.0, 28500.0, 29000.0, 29400.0, 29500.0, 29600.0, 29700.0, 29800.0, 29900.0, 30000.0, 30100.0, 30200.0, 30300.0, 30400.0, 30500.0, 30600.0, 30700.0, 30800.0, 30900.0, 31000.0, 31100.0, 31200.0, 31300.0, 31400.0, 31500.0, 31600.0, 31700.0, 31800.0, 31900.0, 32000.0, 32100.0, 32200.0, 32300.0, 32400.0, 32500.0, 32600.0, 32700.0, 32800.0, 32900.0, 33000.0, 33100.0, 33200.0, 33300.0, 33400.0, 33500.0, 33600.0, 33700.0, 33800.0, 33900.0, 34000.0, 34100.0, 34200.0, 34300.0, 34400.0, 34500.0, 34600.0, 34700.0, 34800.0, 34900.0, 35000.0, 35100.0, 35200.0, 35300.0, 35400.0, 35500.0, 35600.0, 35700.0, 35800.0, 35900.0, 36000.0, 36100.0, 36200.0, 36300.0, 36400.0, 36500.0, 36600.0, 36700.0, 36800.0, 36900.0, 37000.0, 37100.0, 37200.0, 37300.0, 37400.0, 37500.0, 37600.0, 37700.0, 37800.0, 37900.0, 38000.0, 38100.0, 38200.0, 38300.0, 38400.0, 38500.0, 38600.0, 38700.0, 38800.0, 38900.0, 39000.0, 39100.0, 39200.0, 39300.0, 39400.0, 39500.0, 39600.0, 39700.0, 39800.0, 39900.0, 40000.0, 40100.0, 40200.0, 40300.0, 40400.0, 40500.0, 40600.0, 40700.0, 40800.0, 40900.0, 41000.0, 41100.0, 41200.0, 41300.0, 41400.0, 41500.0, 41600.0, 41700.0, 41800.0, 41900.0, 42000.0, 42100.0, 42200.0, 42300.0, 42400.0, 42500.0, 42600.0, 42700.0, 42800.0, 42900.0, 43000.0, 43100.0, 43200.0, 43300.0, 43400.0, 43500.0, 43600.0, 43700.0, 43800.0, 43900.0, 44000.0, 44100.0, 44200.0, 44300.0, 44400.0, 44500.0, 44600.0, 44700.0, 44800.0, 44900.0, 45000.0, 45100.0, 45200.0, 45300.0, 45400.0, 45500.0, 46000.0, 46500.0, 47000.0, 47500.0, 48000.0, 48500.0, 49000.0, 49500.0, 50000.0, 50500.0, 51000.0, 51500.0, 52500.0, 54000.0, 55500.0, 57000.0])]"
      ]
     },
     "execution_count": 9,
     "metadata": {},
     "output_type": "execute_result"
    }
   ],
   "source": [
    "chains"
   ]
  },
  {
   "cell_type": "code",
   "execution_count": 52,
   "metadata": {},
   "outputs": [],
   "source": [
    "window = 5\n",
    "\n",
    "strikes_mid_num = int(len(chains[0].strikes)/2) +1\n",
    "strike_ATM = chains[0].strikes[strikes_mid_num]\n",
    "\n",
    "strikes_list = chains[0].strikes[strikes_mid_num - window - 1 : strikes_mid_num + window]"
   ]
  },
  {
   "cell_type": "code",
   "execution_count": 101,
   "metadata": {},
   "outputs": [],
   "source": [
    "expirations = [chains[0].expirations[0]]\n",
    "strikes = strikes_list\n",
    "rights = ['P', 'C']\n",
    "\n",
    "opt_request_set = [Option('BANKNIFTY', expiration, strike, right, 'NSE', tradingClass='BANKNIFTY')\n",
    "        for right in rights\n",
    "        for expiration in expirations\n",
    "        for strike in strikes]"
   ]
  },
  {
   "cell_type": "code",
   "execution_count": 193,
   "metadata": {
    "scrolled": true
   },
   "outputs": [],
   "source": [
    "data['df'] = pd.DataFrame()\n",
    "data['temp_df'] = pd.DataFrame()\n",
    "\n",
    "\n",
    "tag_list = ['contract.symbol', 'contract.lastTradeDateOrContractMonth', 'contract.strike', 'contract.right', 'contract.exchange', 'contract.tradingClass', \n",
    "            'time', 'marketDataType', 'bid', 'bidSize', 'ask', 'askSize', 'last', 'lastSize', 'prevBid', 'prevBidSize', 'prevAsk', 'prevAskSize', 'prevLast', \n",
    "            'volume', 'high', 'low', 'close', 'bidGreeks.tickAttrib', 'bidGreeks.impliedVol', 'bidGreeks.delta', 'bidGreeks.optPrice', 'bidGreeks.pvDividend', 'bidGreeks.gamma', 'bidGreeks.vega', 'bidGreeks.theta','bidGreeks.undPrice', \n",
    "'askGreeks.tickAttrib', 'askGreeks.impliedVol', 'askGreeks.delta', 'askGreeks.optPrice', 'askGreeks.pvDividend', 'askGreeks.gamma', 'askGreeks.vega', 'askGreeks.theta','askGreeks.undPrice',\n",
    "'lastGreeks.tickAttrib', 'lastGreeks.impliedVol', 'lastGreeks.delta', 'lastGreeks.optPrice', 'lastGreeks.pvDividend', 'lastGreeks.gamma', 'lastGreeks.vega', 'lastGreeks.theta', 'lastGreeks.undPrice',\n",
    "'modelGreeks.tickAttrib', 'modelGreeks.impliedVol', 'modelGreeks.delta', 'modelGreeks.optPrice', 'modelGreeks.pvDividend','modelGreeks.gamma', 'modelGreeks.vega','modelGreeks.theta', 'modelGreeks.undPrice']\n",
    "\n",
    "tag_list = ['contract.strike', 'contract.right', 'time', 'bid', 'ask']"
   ]
  },
  {
   "cell_type": "code",
   "execution_count": 138,
   "metadata": {
    "scrolled": true
   },
   "outputs": [],
   "source": [
    "tickers = ib.reqTickers(*opt_request_set)"
   ]
  },
  {
   "cell_type": "code",
   "execution_count": 196,
   "metadata": {
    "scrolled": false
   },
   "outputs": [
    {
     "data": {
      "text/html": [
       "<div>\n",
       "<style scoped>\n",
       "    .dataframe tbody tr th:only-of-type {\n",
       "        vertical-align: middle;\n",
       "    }\n",
       "\n",
       "    .dataframe tbody tr th {\n",
       "        vertical-align: top;\n",
       "    }\n",
       "\n",
       "    .dataframe thead th {\n",
       "        text-align: right;\n",
       "    }\n",
       "</style>\n",
       "<table border=\"1\" class=\"dataframe\">\n",
       "  <thead>\n",
       "    <tr style=\"text-align: right;\">\n",
       "      <th></th>\n",
       "      <th>time</th>\n",
       "      <th>contract.strike</th>\n",
       "      <th>contract.right</th>\n",
       "      <th>spread</th>\n",
       "      <th>tick</th>\n",
       "    </tr>\n",
       "  </thead>\n",
       "  <tbody>\n",
       "    <tr>\n",
       "      <th>0</th>\n",
       "      <td>2022-09-29 09:57:59.126317+00:00</td>\n",
       "      <td>37000.0</td>\n",
       "      <td>P</td>\n",
       "      <td>0.05</td>\n",
       "      <td>0.375</td>\n",
       "    </tr>\n",
       "    <tr>\n",
       "      <th>45</th>\n",
       "      <td>2022-09-29 09:57:59.126317+00:00</td>\n",
       "      <td>37100.0</td>\n",
       "      <td>P</td>\n",
       "      <td>0.05</td>\n",
       "      <td>0.325</td>\n",
       "    </tr>\n",
       "    <tr>\n",
       "      <th>46</th>\n",
       "      <td>2022-09-29 09:57:59.126317+00:00</td>\n",
       "      <td>37200.0</td>\n",
       "      <td>P</td>\n",
       "      <td>0.05</td>\n",
       "      <td>0.425</td>\n",
       "    </tr>\n",
       "    <tr>\n",
       "      <th>47</th>\n",
       "      <td>2022-09-29 09:57:59.126317+00:00</td>\n",
       "      <td>37300.0</td>\n",
       "      <td>P</td>\n",
       "      <td>0.05</td>\n",
       "      <td>0.525</td>\n",
       "    </tr>\n",
       "    <tr>\n",
       "      <th>51</th>\n",
       "      <td>2022-09-29 09:58:00.240079+00:00</td>\n",
       "      <td>37700.0</td>\n",
       "      <td>P</td>\n",
       "      <td>0.30</td>\n",
       "      <td>102.200</td>\n",
       "    </tr>\n",
       "    <tr>\n",
       "      <th>55</th>\n",
       "      <td>2022-09-29 09:58:00.241059+00:00</td>\n",
       "      <td>37000.0</td>\n",
       "      <td>C</td>\n",
       "      <td>1.80</td>\n",
       "      <td>599.050</td>\n",
       "    </tr>\n",
       "    <tr>\n",
       "      <th>56</th>\n",
       "      <td>2022-09-29 09:58:00.241059+00:00</td>\n",
       "      <td>37100.0</td>\n",
       "      <td>C</td>\n",
       "      <td>1.65</td>\n",
       "      <td>498.325</td>\n",
       "    </tr>\n",
       "    <tr>\n",
       "      <th>57</th>\n",
       "      <td>2022-09-29 09:58:00.241059+00:00</td>\n",
       "      <td>37200.0</td>\n",
       "      <td>C</td>\n",
       "      <td>1.00</td>\n",
       "      <td>399.100</td>\n",
       "    </tr>\n",
       "    <tr>\n",
       "      <th>58</th>\n",
       "      <td>2022-09-29 09:58:00.241059+00:00</td>\n",
       "      <td>37300.0</td>\n",
       "      <td>C</td>\n",
       "      <td>0.75</td>\n",
       "      <td>297.775</td>\n",
       "    </tr>\n",
       "    <tr>\n",
       "      <th>59</th>\n",
       "      <td>2022-09-29 09:58:00.241059+00:00</td>\n",
       "      <td>37400.0</td>\n",
       "      <td>C</td>\n",
       "      <td>0.85</td>\n",
       "      <td>198.925</td>\n",
       "    </tr>\n",
       "    <tr>\n",
       "      <th>48</th>\n",
       "      <td>2022-09-29 09:58:00.241059+00:00</td>\n",
       "      <td>37400.0</td>\n",
       "      <td>P</td>\n",
       "      <td>0.05</td>\n",
       "      <td>0.625</td>\n",
       "    </tr>\n",
       "    <tr>\n",
       "      <th>60</th>\n",
       "      <td>2022-09-29 09:58:00.241059+00:00</td>\n",
       "      <td>37500.0</td>\n",
       "      <td>C</td>\n",
       "      <td>0.35</td>\n",
       "      <td>99.625</td>\n",
       "    </tr>\n",
       "    <tr>\n",
       "      <th>61</th>\n",
       "      <td>2022-09-29 09:58:00.241059+00:00</td>\n",
       "      <td>37600.0</td>\n",
       "      <td>C</td>\n",
       "      <td>0.20</td>\n",
       "      <td>18.700</td>\n",
       "    </tr>\n",
       "    <tr>\n",
       "      <th>62</th>\n",
       "      <td>2022-09-29 09:58:00.241059+00:00</td>\n",
       "      <td>37700.0</td>\n",
       "      <td>C</td>\n",
       "      <td>0.05</td>\n",
       "      <td>0.925</td>\n",
       "    </tr>\n",
       "    <tr>\n",
       "      <th>63</th>\n",
       "      <td>2022-09-29 09:58:00.241059+00:00</td>\n",
       "      <td>37800.0</td>\n",
       "      <td>C</td>\n",
       "      <td>0.05</td>\n",
       "      <td>0.575</td>\n",
       "    </tr>\n",
       "    <tr>\n",
       "      <th>64</th>\n",
       "      <td>2022-09-29 09:58:00.241059+00:00</td>\n",
       "      <td>37900.0</td>\n",
       "      <td>C</td>\n",
       "      <td>0.05</td>\n",
       "      <td>0.475</td>\n",
       "    </tr>\n",
       "    <tr>\n",
       "      <th>65</th>\n",
       "      <td>2022-09-29 09:58:00.241059+00:00</td>\n",
       "      <td>38000.0</td>\n",
       "      <td>C</td>\n",
       "      <td>0.05</td>\n",
       "      <td>0.475</td>\n",
       "    </tr>\n",
       "    <tr>\n",
       "      <th>49</th>\n",
       "      <td>2022-09-29 09:58:00.242059+00:00</td>\n",
       "      <td>37500.0</td>\n",
       "      <td>P</td>\n",
       "      <td>0.05</td>\n",
       "      <td>2.275</td>\n",
       "    </tr>\n",
       "    <tr>\n",
       "      <th>50</th>\n",
       "      <td>2022-09-29 09:58:00.242059+00:00</td>\n",
       "      <td>37600.0</td>\n",
       "      <td>P</td>\n",
       "      <td>0.15</td>\n",
       "      <td>20.775</td>\n",
       "    </tr>\n",
       "    <tr>\n",
       "      <th>52</th>\n",
       "      <td>2022-09-29 09:58:00.242059+00:00</td>\n",
       "      <td>37800.0</td>\n",
       "      <td>P</td>\n",
       "      <td>0.25</td>\n",
       "      <td>202.225</td>\n",
       "    </tr>\n",
       "    <tr>\n",
       "      <th>53</th>\n",
       "      <td>2022-09-29 09:58:00.242059+00:00</td>\n",
       "      <td>37900.0</td>\n",
       "      <td>P</td>\n",
       "      <td>1.05</td>\n",
       "      <td>301.975</td>\n",
       "    </tr>\n",
       "    <tr>\n",
       "      <th>54</th>\n",
       "      <td>2022-09-29 09:58:00.242059+00:00</td>\n",
       "      <td>38000.0</td>\n",
       "      <td>P</td>\n",
       "      <td>0.20</td>\n",
       "      <td>401.300</td>\n",
       "    </tr>\n",
       "  </tbody>\n",
       "</table>\n",
       "</div>"
      ],
      "text/plain": [
       "                               time  contract.strike contract.right  spread  \\\n",
       "0  2022-09-29 09:57:59.126317+00:00          37000.0              P    0.05   \n",
       "45 2022-09-29 09:57:59.126317+00:00          37100.0              P    0.05   \n",
       "46 2022-09-29 09:57:59.126317+00:00          37200.0              P    0.05   \n",
       "47 2022-09-29 09:57:59.126317+00:00          37300.0              P    0.05   \n",
       "51 2022-09-29 09:58:00.240079+00:00          37700.0              P    0.30   \n",
       "55 2022-09-29 09:58:00.241059+00:00          37000.0              C    1.80   \n",
       "56 2022-09-29 09:58:00.241059+00:00          37100.0              C    1.65   \n",
       "57 2022-09-29 09:58:00.241059+00:00          37200.0              C    1.00   \n",
       "58 2022-09-29 09:58:00.241059+00:00          37300.0              C    0.75   \n",
       "59 2022-09-29 09:58:00.241059+00:00          37400.0              C    0.85   \n",
       "48 2022-09-29 09:58:00.241059+00:00          37400.0              P    0.05   \n",
       "60 2022-09-29 09:58:00.241059+00:00          37500.0              C    0.35   \n",
       "61 2022-09-29 09:58:00.241059+00:00          37600.0              C    0.20   \n",
       "62 2022-09-29 09:58:00.241059+00:00          37700.0              C    0.05   \n",
       "63 2022-09-29 09:58:00.241059+00:00          37800.0              C    0.05   \n",
       "64 2022-09-29 09:58:00.241059+00:00          37900.0              C    0.05   \n",
       "65 2022-09-29 09:58:00.241059+00:00          38000.0              C    0.05   \n",
       "49 2022-09-29 09:58:00.242059+00:00          37500.0              P    0.05   \n",
       "50 2022-09-29 09:58:00.242059+00:00          37600.0              P    0.15   \n",
       "52 2022-09-29 09:58:00.242059+00:00          37800.0              P    0.25   \n",
       "53 2022-09-29 09:58:00.242059+00:00          37900.0              P    1.05   \n",
       "54 2022-09-29 09:58:00.242059+00:00          38000.0              P    0.20   \n",
       "\n",
       "       tick  \n",
       "0     0.375  \n",
       "45    0.325  \n",
       "46    0.425  \n",
       "47    0.525  \n",
       "51  102.200  \n",
       "55  599.050  \n",
       "56  498.325  \n",
       "57  399.100  \n",
       "58  297.775  \n",
       "59  198.925  \n",
       "48    0.625  \n",
       "60   99.625  \n",
       "61   18.700  \n",
       "62    0.925  \n",
       "63    0.575  \n",
       "64    0.475  \n",
       "65    0.475  \n",
       "49    2.275  \n",
       "50   20.775  \n",
       "52  202.225  \n",
       "53  301.975  \n",
       "54  401.300  "
      ]
     },
     "execution_count": 196,
     "metadata": {},
     "output_type": "execute_result"
    }
   ],
   "source": [
    "for ticker in tickers:\n",
    "    for tag in tag_list:\n",
    "        data['temp_df'][tag] = np.nan\n",
    "        temp_val = eval(f'ticker.{tag}')\n",
    "        data['temp_df'][tag] = pd.Series(temp_val)\n",
    "    data['df'] = data['df'].append(data['temp_df'])\n",
    "    \n",
    "data['df'] = data['df'].reset_index()    \n",
    "data['df'] = data['df'].sort_values(by = ['time', 'contract.strike', 'index', 'contract.right'])\n",
    "\n",
    "cols = ['time', 'contract.strike', 'contract.right',  'bid','ask']\n",
    "data['df'] = data['df'][cols]\n",
    "\n",
    "data['df']['spread'] = data['df']['ask'] - data['df']['bid']\n",
    "data['df']['tick'] = data['df'][['ask', 'bid']].mean(axis = 1)\n",
    "del data['df']['ask']\n",
    "del data['df']['bid']\n",
    "\n",
    "data['df'] = data['df'].drop_duplicates()\n",
    "data['df']"
   ]
  },
  {
   "cell_type": "markdown",
   "metadata": {},
   "source": [
    "# Notes : 29 Sept 2022\n",
    "---\n",
    "\n",
    "1. Draw line charts of different strikes with spread and tick\n",
    "1. Convert stikes to column names to draw lines"
   ]
  }
 ],
 "metadata": {
  "kernelspec": {
   "display_name": "Python 3",
   "language": "python",
   "name": "python3"
  },
  "language_info": {
   "codemirror_mode": {
    "name": "ipython",
    "version": 3
   },
   "file_extension": ".py",
   "mimetype": "text/x-python",
   "name": "python",
   "nbconvert_exporter": "python",
   "pygments_lexer": "ipython3",
   "version": "3.6.6"
  }
 },
 "nbformat": 4,
 "nbformat_minor": 4
}
